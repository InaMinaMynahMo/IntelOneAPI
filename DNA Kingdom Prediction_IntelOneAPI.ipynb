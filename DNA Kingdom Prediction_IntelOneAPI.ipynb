{
 "cells": [
  {
   "cell_type": "markdown",
   "id": "uyFYTWRhiNeP",
   "metadata": {
    "id": "uyFYTWRhiNeP"
   },
   "source": [
    "1.Importing the Packages"
   ]
  },
  {
   "cell_type": "code",
   "execution_count": 1,
   "id": "d9db81d6",
   "metadata": {
    "colab": {
     "base_uri": "https://localhost:8080/",
     "height": 73
    },
    "id": "d9db81d6",
    "outputId": "c34fdc75-8d0b-4872-83e7-f1ba1fca8c31"
   },
   "outputs": [
    {
     "name": "stderr",
     "output_type": "stream",
     "text": [
      "Intel(R) Extension for Scikit-learn* enabled (https://github.com/intel/scikit-learn-intelex)\n"
     ]
    }
   ],
   "source": [
    "#Importing Necessary Packages\n",
    "import pandas as pd\n",
    "import numpy as np\n",
    "import seaborn as sns \n",
    "from sklearn.metrics import accuracy_score, classification_report, confusion_matrix\n",
    "from sklearn.tree import DecisionTreeClassifier\n",
    "from sklearn.ensemble import RandomForestClassifier\n",
    "import matplotlib.pyplot as plt\n",
    "import pickle"
   ]
  },
  {
   "cell_type": "code",
   "execution_count": 2,
   "id": "3427f3a0",
   "metadata": {
    "id": "3427f3a0",
    "papermill": {
     "duration": 0.285587,
     "end_time": "2021-10-10T17:51:30.049382",
     "exception": false,
     "start_time": "2021-10-10T17:51:29.763795",
     "status": "completed"
    },
    "tags": []
   },
   "outputs": [],
   "source": [
    "#To read the CSV File\n",
    "data = pd.read_csv('codon_usage.csv',low_memory=False)"
   ]
  },
  {
   "cell_type": "markdown",
   "id": "a008ddf1",
   "metadata": {
    "id": "a008ddf1",
    "papermill": {
     "duration": 0.01687,
     "end_time": "2021-10-10T17:51:30.084321",
     "exception": false,
     "start_time": "2021-10-10T17:51:30.067451",
     "status": "completed"
    },
    "tags": []
   },
   "source": [
    "2.Preprocessing of Data"
   ]
  },
  {
   "cell_type": "code",
   "execution_count": 3,
   "id": "39dabbb4-5197-474a-bb4f-0916fc66d3d2",
   "metadata": {
    "colab": {
     "base_uri": "https://localhost:8080/",
     "height": 438
    },
    "id": "39dabbb4-5197-474a-bb4f-0916fc66d3d2",
    "outputId": "7f06286e-0efd-463a-f578-5ad98c4b0b28"
   },
   "outputs": [
    {
     "data": {
      "text/html": [
       "<div>\n",
       "<style scoped>\n",
       "    .dataframe tbody tr th:only-of-type {\n",
       "        vertical-align: middle;\n",
       "    }\n",
       "\n",
       "    .dataframe tbody tr th {\n",
       "        vertical-align: top;\n",
       "    }\n",
       "\n",
       "    .dataframe thead th {\n",
       "        text-align: right;\n",
       "    }\n",
       "</style>\n",
       "<table border=\"1\" class=\"dataframe\">\n",
       "  <thead>\n",
       "    <tr style=\"text-align: right;\">\n",
       "      <th></th>\n",
       "      <th>Kingdom</th>\n",
       "      <th>DNAtype</th>\n",
       "      <th>SpeciesID</th>\n",
       "      <th>Ncodons</th>\n",
       "      <th>SpeciesName</th>\n",
       "      <th>UUU</th>\n",
       "      <th>UUC</th>\n",
       "      <th>UUA</th>\n",
       "      <th>UUG</th>\n",
       "      <th>CUU</th>\n",
       "      <th>...</th>\n",
       "      <th>CGG</th>\n",
       "      <th>AGA</th>\n",
       "      <th>AGG</th>\n",
       "      <th>GAU</th>\n",
       "      <th>GAC</th>\n",
       "      <th>GAA</th>\n",
       "      <th>GAG</th>\n",
       "      <th>UAA</th>\n",
       "      <th>UAG</th>\n",
       "      <th>UGA</th>\n",
       "    </tr>\n",
       "  </thead>\n",
       "  <tbody>\n",
       "    <tr>\n",
       "      <th>0</th>\n",
       "      <td>vrl</td>\n",
       "      <td>0</td>\n",
       "      <td>100217</td>\n",
       "      <td>1995</td>\n",
       "      <td>Epizootic haematopoietic necrosis virus</td>\n",
       "      <td>0.01654</td>\n",
       "      <td>0.01203</td>\n",
       "      <td>0.00050</td>\n",
       "      <td>0.00351</td>\n",
       "      <td>0.01203</td>\n",
       "      <td>...</td>\n",
       "      <td>0.00451</td>\n",
       "      <td>0.01303</td>\n",
       "      <td>0.03559</td>\n",
       "      <td>0.01003</td>\n",
       "      <td>0.04612</td>\n",
       "      <td>0.01203</td>\n",
       "      <td>0.04361</td>\n",
       "      <td>0.00251</td>\n",
       "      <td>0.00050</td>\n",
       "      <td>0.00000</td>\n",
       "    </tr>\n",
       "    <tr>\n",
       "      <th>1</th>\n",
       "      <td>vrl</td>\n",
       "      <td>0</td>\n",
       "      <td>100220</td>\n",
       "      <td>1474</td>\n",
       "      <td>Bohle iridovirus</td>\n",
       "      <td>0.02714</td>\n",
       "      <td>0.01357</td>\n",
       "      <td>0.00068</td>\n",
       "      <td>0.00678</td>\n",
       "      <td>0.00407</td>\n",
       "      <td>...</td>\n",
       "      <td>0.00136</td>\n",
       "      <td>0.01696</td>\n",
       "      <td>0.03596</td>\n",
       "      <td>0.01221</td>\n",
       "      <td>0.04545</td>\n",
       "      <td>0.01560</td>\n",
       "      <td>0.04410</td>\n",
       "      <td>0.00271</td>\n",
       "      <td>0.00068</td>\n",
       "      <td>0.00000</td>\n",
       "    </tr>\n",
       "    <tr>\n",
       "      <th>2</th>\n",
       "      <td>vrl</td>\n",
       "      <td>0</td>\n",
       "      <td>100755</td>\n",
       "      <td>4862</td>\n",
       "      <td>Sweet potato leaf curl virus</td>\n",
       "      <td>0.01974</td>\n",
       "      <td>0.0218</td>\n",
       "      <td>0.01357</td>\n",
       "      <td>0.01543</td>\n",
       "      <td>0.00782</td>\n",
       "      <td>...</td>\n",
       "      <td>0.00596</td>\n",
       "      <td>0.01974</td>\n",
       "      <td>0.02489</td>\n",
       "      <td>0.03126</td>\n",
       "      <td>0.02036</td>\n",
       "      <td>0.02242</td>\n",
       "      <td>0.02468</td>\n",
       "      <td>0.00391</td>\n",
       "      <td>0.00000</td>\n",
       "      <td>0.00144</td>\n",
       "    </tr>\n",
       "    <tr>\n",
       "      <th>3</th>\n",
       "      <td>vrl</td>\n",
       "      <td>0</td>\n",
       "      <td>100880</td>\n",
       "      <td>1915</td>\n",
       "      <td>Northern cereal mosaic virus</td>\n",
       "      <td>0.01775</td>\n",
       "      <td>0.02245</td>\n",
       "      <td>0.01619</td>\n",
       "      <td>0.00992</td>\n",
       "      <td>0.01567</td>\n",
       "      <td>...</td>\n",
       "      <td>0.00366</td>\n",
       "      <td>0.01410</td>\n",
       "      <td>0.01671</td>\n",
       "      <td>0.03760</td>\n",
       "      <td>0.01932</td>\n",
       "      <td>0.03029</td>\n",
       "      <td>0.03446</td>\n",
       "      <td>0.00261</td>\n",
       "      <td>0.00157</td>\n",
       "      <td>0.00000</td>\n",
       "    </tr>\n",
       "    <tr>\n",
       "      <th>4</th>\n",
       "      <td>vrl</td>\n",
       "      <td>0</td>\n",
       "      <td>100887</td>\n",
       "      <td>22831</td>\n",
       "      <td>Soil-borne cereal mosaic virus</td>\n",
       "      <td>0.02816</td>\n",
       "      <td>0.01371</td>\n",
       "      <td>0.00767</td>\n",
       "      <td>0.03679</td>\n",
       "      <td>0.01380</td>\n",
       "      <td>...</td>\n",
       "      <td>0.00604</td>\n",
       "      <td>0.01494</td>\n",
       "      <td>0.01734</td>\n",
       "      <td>0.04148</td>\n",
       "      <td>0.02483</td>\n",
       "      <td>0.03359</td>\n",
       "      <td>0.03679</td>\n",
       "      <td>0.00000</td>\n",
       "      <td>0.00044</td>\n",
       "      <td>0.00131</td>\n",
       "    </tr>\n",
       "  </tbody>\n",
       "</table>\n",
       "<p>5 rows × 69 columns</p>\n",
       "</div>"
      ],
      "text/plain": [
       "  Kingdom  DNAtype  SpeciesID  Ncodons  \\\n",
       "0     vrl        0     100217     1995   \n",
       "1     vrl        0     100220     1474   \n",
       "2     vrl        0     100755     4862   \n",
       "3     vrl        0     100880     1915   \n",
       "4     vrl        0     100887    22831   \n",
       "\n",
       "                               SpeciesName      UUU      UUC      UUA  \\\n",
       "0  Epizootic haematopoietic necrosis virus  0.01654  0.01203  0.00050   \n",
       "1                         Bohle iridovirus  0.02714  0.01357  0.00068   \n",
       "2             Sweet potato leaf curl virus  0.01974   0.0218  0.01357   \n",
       "3             Northern cereal mosaic virus  0.01775  0.02245  0.01619   \n",
       "4           Soil-borne cereal mosaic virus  0.02816  0.01371  0.00767   \n",
       "\n",
       "       UUG      CUU  ...      CGG      AGA      AGG      GAU      GAC  \\\n",
       "0  0.00351  0.01203  ...  0.00451  0.01303  0.03559  0.01003  0.04612   \n",
       "1  0.00678  0.00407  ...  0.00136  0.01696  0.03596  0.01221  0.04545   \n",
       "2  0.01543  0.00782  ...  0.00596  0.01974  0.02489  0.03126  0.02036   \n",
       "3  0.00992  0.01567  ...  0.00366  0.01410  0.01671  0.03760  0.01932   \n",
       "4  0.03679  0.01380  ...  0.00604  0.01494  0.01734  0.04148  0.02483   \n",
       "\n",
       "       GAA      GAG      UAA      UAG      UGA  \n",
       "0  0.01203  0.04361  0.00251  0.00050  0.00000  \n",
       "1  0.01560  0.04410  0.00271  0.00068  0.00000  \n",
       "2  0.02242  0.02468  0.00391  0.00000  0.00144  \n",
       "3  0.03029  0.03446  0.00261  0.00157  0.00000  \n",
       "4  0.03359  0.03679  0.00000  0.00044  0.00131  \n",
       "\n",
       "[5 rows x 69 columns]"
      ]
     },
     "execution_count": 3,
     "metadata": {},
     "output_type": "execute_result"
    }
   ],
   "source": [
    "#To display the First Five Rows\n",
    "data.head()"
   ]
  },
  {
   "cell_type": "code",
   "execution_count": 4,
   "id": "9ab2cc23",
   "metadata": {
    "colab": {
     "base_uri": "https://localhost:8080/"
    },
    "id": "9ab2cc23",
    "outputId": "841bc20a-ae56-44b0-f427-b874879c80e3",
    "papermill": {
     "duration": 0.044974,
     "end_time": "2021-10-10T17:51:30.146208",
     "exception": false,
     "start_time": "2021-10-10T17:51:30.101234",
     "status": "completed"
    },
    "tags": []
   },
   "outputs": [
    {
     "name": "stdout",
     "output_type": "stream",
     "text": [
      "<class 'pandas.core.frame.DataFrame'>\n",
      "RangeIndex: 13028 entries, 0 to 13027\n",
      "Data columns (total 69 columns):\n",
      " #   Column       Non-Null Count  Dtype  \n",
      "---  ------       --------------  -----  \n",
      " 0   Kingdom      13028 non-null  object \n",
      " 1   DNAtype      13028 non-null  int64  \n",
      " 2   SpeciesID    13028 non-null  int64  \n",
      " 3   Ncodons      13028 non-null  int64  \n",
      " 4   SpeciesName  13028 non-null  object \n",
      " 5   UUU          13028 non-null  object \n",
      " 6   UUC          13028 non-null  object \n",
      " 7   UUA          13028 non-null  float64\n",
      " 8   UUG          13028 non-null  float64\n",
      " 9   CUU          13028 non-null  float64\n",
      " 10  CUC          13028 non-null  float64\n",
      " 11  CUA          13028 non-null  float64\n",
      " 12  CUG          13028 non-null  float64\n",
      " 13  AUU          13028 non-null  float64\n",
      " 14  AUC          13028 non-null  float64\n",
      " 15  AUA          13028 non-null  float64\n",
      " 16  AUG          13028 non-null  float64\n",
      " 17  GUU          13028 non-null  float64\n",
      " 18  GUC          13028 non-null  float64\n",
      " 19  GUA          13028 non-null  float64\n",
      " 20  GUG          13028 non-null  float64\n",
      " 21  GCU          13028 non-null  float64\n",
      " 22  GCC          13028 non-null  float64\n",
      " 23  GCA          13028 non-null  float64\n",
      " 24  GCG          13028 non-null  float64\n",
      " 25  CCU          13028 non-null  float64\n",
      " 26  CCC          13028 non-null  float64\n",
      " 27  CCA          13028 non-null  float64\n",
      " 28  CCG          13028 non-null  float64\n",
      " 29  UGG          13028 non-null  float64\n",
      " 30  GGU          13028 non-null  float64\n",
      " 31  GGC          13028 non-null  float64\n",
      " 32  GGA          13028 non-null  float64\n",
      " 33  GGG          13028 non-null  float64\n",
      " 34  UCU          13028 non-null  float64\n",
      " 35  UCC          13028 non-null  float64\n",
      " 36  UCA          13028 non-null  float64\n",
      " 37  UCG          13028 non-null  float64\n",
      " 38  AGU          13028 non-null  float64\n",
      " 39  AGC          13028 non-null  float64\n",
      " 40  ACU          13028 non-null  float64\n",
      " 41  ACC          13028 non-null  float64\n",
      " 42  ACA          13028 non-null  float64\n",
      " 43  ACG          13028 non-null  float64\n",
      " 44  UAU          13028 non-null  float64\n",
      " 45  UAC          13028 non-null  float64\n",
      " 46  CAA          13028 non-null  float64\n",
      " 47  CAG          13028 non-null  float64\n",
      " 48  AAU          13028 non-null  float64\n",
      " 49  AAC          13028 non-null  float64\n",
      " 50  UGU          13028 non-null  float64\n",
      " 51  UGC          13028 non-null  float64\n",
      " 52  CAU          13028 non-null  float64\n",
      " 53  CAC          13028 non-null  float64\n",
      " 54  AAA          13028 non-null  float64\n",
      " 55  AAG          13028 non-null  float64\n",
      " 56  CGU          13028 non-null  float64\n",
      " 57  CGC          13028 non-null  float64\n",
      " 58  CGA          13028 non-null  float64\n",
      " 59  CGG          13028 non-null  float64\n",
      " 60  AGA          13028 non-null  float64\n",
      " 61  AGG          13028 non-null  float64\n",
      " 62  GAU          13028 non-null  float64\n",
      " 63  GAC          13028 non-null  float64\n",
      " 64  GAA          13028 non-null  float64\n",
      " 65  GAG          13028 non-null  float64\n",
      " 66  UAA          13028 non-null  float64\n",
      " 67  UAG          13028 non-null  float64\n",
      " 68  UGA          13028 non-null  float64\n",
      "dtypes: float64(62), int64(3), object(4)\n",
      "memory usage: 6.9+ MB\n"
     ]
    }
   ],
   "source": [
    "#Information about the Data \n",
    "data.info()"
   ]
  },
  {
   "cell_type": "code",
   "execution_count": 5,
   "id": "dd48481b",
   "metadata": {
    "colab": {
     "base_uri": "https://localhost:8080/",
     "height": 534
    },
    "id": "dd48481b",
    "outputId": "4ec51220-91b1-435a-986e-0b9d2340c40d",
    "papermill": {
     "duration": 2.109538,
     "end_time": "2021-10-10T17:51:32.274442",
     "exception": false,
     "start_time": "2021-10-10T17:51:30.164904",
     "status": "completed"
    },
    "tags": []
   },
   "outputs": [
    {
     "data": {
      "text/plain": [
       "<AxesSubplot: >"
      ]
     },
     "execution_count": 5,
     "metadata": {},
     "output_type": "execute_result"
    },
    {
     "data": {
      "image/png": "[encoded data removed]",
      "text/plain": [
       "<Figure size 640x480 with 1 Axes>"
      ]
     },
     "metadata": {},
     "output_type": "display_data"
    }
   ],
   "source": [
    "#Checking for Null Values\n",
    "sns.heatmap(data.isnull(), cbar=False)"
   ]
  },
  {
   "cell_type": "code",
   "execution_count": 6,
   "id": "d369cb54",
   "metadata": {
    "colab": {
     "base_uri": "https://localhost:8080/",
     "height": 394
    },
    "id": "d369cb54",
    "outputId": "2dbd47c1-2958-4d1c-b867-3804f2036812",
    "tags": []
   },
   "outputs": [
    {
     "data": {
      "text/html": [
       "<div>\n",
       "<style scoped>\n",
       "    .dataframe tbody tr th:only-of-type {\n",
       "        vertical-align: middle;\n",
       "    }\n",
       "\n",
       "    .dataframe tbody tr th {\n",
       "        vertical-align: top;\n",
       "    }\n",
       "\n",
       "    .dataframe thead th {\n",
       "        text-align: right;\n",
       "    }\n",
       "</style>\n",
       "<table border=\"1\" class=\"dataframe\">\n",
       "  <thead>\n",
       "    <tr style=\"text-align: right;\">\n",
       "      <th></th>\n",
       "      <th>DNAtype</th>\n",
       "      <th>SpeciesID</th>\n",
       "      <th>Ncodons</th>\n",
       "      <th>UUA</th>\n",
       "      <th>UUG</th>\n",
       "      <th>CUU</th>\n",
       "      <th>CUC</th>\n",
       "      <th>CUA</th>\n",
       "      <th>CUG</th>\n",
       "      <th>AUU</th>\n",
       "      <th>...</th>\n",
       "      <th>CGG</th>\n",
       "      <th>AGA</th>\n",
       "      <th>AGG</th>\n",
       "      <th>GAU</th>\n",
       "      <th>GAC</th>\n",
       "      <th>GAA</th>\n",
       "      <th>GAG</th>\n",
       "      <th>UAA</th>\n",
       "      <th>UAG</th>\n",
       "      <th>UGA</th>\n",
       "    </tr>\n",
       "  </thead>\n",
       "  <tbody>\n",
       "    <tr>\n",
       "      <th>count</th>\n",
       "      <td>13028.000000</td>\n",
       "      <td>13028.000000</td>\n",
       "      <td>1.302800e+04</td>\n",
       "      <td>13028.000000</td>\n",
       "      <td>13028.000000</td>\n",
       "      <td>13028.000000</td>\n",
       "      <td>13028.000000</td>\n",
       "      <td>13028.000000</td>\n",
       "      <td>13028.000000</td>\n",
       "      <td>13028.000000</td>\n",
       "      <td>...</td>\n",
       "      <td>13028.000000</td>\n",
       "      <td>13028.000000</td>\n",
       "      <td>13028.000000</td>\n",
       "      <td>13028.000000</td>\n",
       "      <td>13028.000000</td>\n",
       "      <td>13028.000000</td>\n",
       "      <td>13028.000000</td>\n",
       "      <td>13028.000000</td>\n",
       "      <td>13028.000000</td>\n",
       "      <td>13028.000000</td>\n",
       "    </tr>\n",
       "    <tr>\n",
       "      <th>mean</th>\n",
       "      <td>0.367209</td>\n",
       "      <td>130451.105926</td>\n",
       "      <td>7.960576e+04</td>\n",
       "      <td>0.020637</td>\n",
       "      <td>0.014104</td>\n",
       "      <td>0.017820</td>\n",
       "      <td>0.018288</td>\n",
       "      <td>0.019044</td>\n",
       "      <td>0.018450</td>\n",
       "      <td>0.028352</td>\n",
       "      <td>...</td>\n",
       "      <td>0.005454</td>\n",
       "      <td>0.009929</td>\n",
       "      <td>0.006422</td>\n",
       "      <td>0.024178</td>\n",
       "      <td>0.021164</td>\n",
       "      <td>0.028290</td>\n",
       "      <td>0.021683</td>\n",
       "      <td>0.001645</td>\n",
       "      <td>0.000592</td>\n",
       "      <td>0.006178</td>\n",
       "    </tr>\n",
       "    <tr>\n",
       "      <th>std</th>\n",
       "      <td>0.688726</td>\n",
       "      <td>124787.086107</td>\n",
       "      <td>7.197010e+05</td>\n",
       "      <td>0.020709</td>\n",
       "      <td>0.009280</td>\n",
       "      <td>0.010586</td>\n",
       "      <td>0.014572</td>\n",
       "      <td>0.024250</td>\n",
       "      <td>0.016578</td>\n",
       "      <td>0.017507</td>\n",
       "      <td>...</td>\n",
       "      <td>0.006605</td>\n",
       "      <td>0.008574</td>\n",
       "      <td>0.006387</td>\n",
       "      <td>0.013828</td>\n",
       "      <td>0.013041</td>\n",
       "      <td>0.014342</td>\n",
       "      <td>0.015018</td>\n",
       "      <td>0.001834</td>\n",
       "      <td>0.000907</td>\n",
       "      <td>0.010344</td>\n",
       "    </tr>\n",
       "    <tr>\n",
       "      <th>min</th>\n",
       "      <td>0.000000</td>\n",
       "      <td>7.000000</td>\n",
       "      <td>1.000000e+03</td>\n",
       "      <td>0.000000</td>\n",
       "      <td>0.000000</td>\n",
       "      <td>0.000000</td>\n",
       "      <td>0.000000</td>\n",
       "      <td>0.000000</td>\n",
       "      <td>0.000000</td>\n",
       "      <td>0.000000</td>\n",
       "      <td>...</td>\n",
       "      <td>0.000000</td>\n",
       "      <td>0.000000</td>\n",
       "      <td>0.000000</td>\n",
       "      <td>0.000000</td>\n",
       "      <td>0.000000</td>\n",
       "      <td>0.000000</td>\n",
       "      <td>0.000000</td>\n",
       "      <td>0.000000</td>\n",
       "      <td>0.000000</td>\n",
       "      <td>0.000000</td>\n",
       "    </tr>\n",
       "    <tr>\n",
       "      <th>25%</th>\n",
       "      <td>0.000000</td>\n",
       "      <td>28850.750000</td>\n",
       "      <td>1.602000e+03</td>\n",
       "      <td>0.005610</td>\n",
       "      <td>0.007108</td>\n",
       "      <td>0.010890</td>\n",
       "      <td>0.007830</td>\n",
       "      <td>0.005307</td>\n",
       "      <td>0.007180</td>\n",
       "      <td>0.016360</td>\n",
       "      <td>...</td>\n",
       "      <td>0.001220</td>\n",
       "      <td>0.001690</td>\n",
       "      <td>0.001170</td>\n",
       "      <td>0.012380</td>\n",
       "      <td>0.011860</td>\n",
       "      <td>0.017360</td>\n",
       "      <td>0.009710</td>\n",
       "      <td>0.000560</td>\n",
       "      <td>0.000000</td>\n",
       "      <td>0.000410</td>\n",
       "    </tr>\n",
       "    <tr>\n",
       "      <th>50%</th>\n",
       "      <td>0.000000</td>\n",
       "      <td>81971.500000</td>\n",
       "      <td>2.927500e+03</td>\n",
       "      <td>0.015260</td>\n",
       "      <td>0.013360</td>\n",
       "      <td>0.016130</td>\n",
       "      <td>0.014560</td>\n",
       "      <td>0.009685</td>\n",
       "      <td>0.012800</td>\n",
       "      <td>0.025475</td>\n",
       "      <td>...</td>\n",
       "      <td>0.003530</td>\n",
       "      <td>0.009270</td>\n",
       "      <td>0.004545</td>\n",
       "      <td>0.025420</td>\n",
       "      <td>0.019070</td>\n",
       "      <td>0.026085</td>\n",
       "      <td>0.020540</td>\n",
       "      <td>0.001380</td>\n",
       "      <td>0.000420</td>\n",
       "      <td>0.001130</td>\n",
       "    </tr>\n",
       "    <tr>\n",
       "      <th>75%</th>\n",
       "      <td>1.000000</td>\n",
       "      <td>222891.250000</td>\n",
       "      <td>9.120000e+03</td>\n",
       "      <td>0.029485</td>\n",
       "      <td>0.019810</td>\n",
       "      <td>0.022730</td>\n",
       "      <td>0.025112</td>\n",
       "      <td>0.017245</td>\n",
       "      <td>0.024315</td>\n",
       "      <td>0.038113</td>\n",
       "      <td>...</td>\n",
       "      <td>0.007150</td>\n",
       "      <td>0.015922</td>\n",
       "      <td>0.010250</td>\n",
       "      <td>0.034190</td>\n",
       "      <td>0.027690</td>\n",
       "      <td>0.036800</td>\n",
       "      <td>0.031122</td>\n",
       "      <td>0.002370</td>\n",
       "      <td>0.000830</td>\n",
       "      <td>0.002890</td>\n",
       "    </tr>\n",
       "    <tr>\n",
       "      <th>max</th>\n",
       "      <td>12.000000</td>\n",
       "      <td>465364.000000</td>\n",
       "      <td>4.066258e+07</td>\n",
       "      <td>0.151330</td>\n",
       "      <td>0.101190</td>\n",
       "      <td>0.089780</td>\n",
       "      <td>0.100350</td>\n",
       "      <td>0.163920</td>\n",
       "      <td>0.107370</td>\n",
       "      <td>0.154060</td>\n",
       "      <td>...</td>\n",
       "      <td>0.055540</td>\n",
       "      <td>0.098830</td>\n",
       "      <td>0.058430</td>\n",
       "      <td>0.185660</td>\n",
       "      <td>0.113840</td>\n",
       "      <td>0.144890</td>\n",
       "      <td>0.158550</td>\n",
       "      <td>0.045200</td>\n",
       "      <td>0.025610</td>\n",
       "      <td>0.106700</td>\n",
       "    </tr>\n",
       "  </tbody>\n",
       "</table>\n",
       "<p>8 rows × 65 columns</p>\n",
       "</div>"
      ],
      "text/plain": [
       "            DNAtype      SpeciesID       Ncodons           UUA           UUG  \\\n",
       "count  13028.000000   13028.000000  1.302800e+04  13028.000000  13028.000000   \n",
       "mean       0.367209  130451.105926  7.960576e+04      0.020637      0.014104   \n",
       "std        0.688726  124787.086107  7.197010e+05      0.020709      0.009280   \n",
       "min        0.000000       7.000000  1.000000e+03      0.000000      0.000000   \n",
       "25%        0.000000   28850.750000  1.602000e+03      0.005610      0.007108   \n",
       "50%        0.000000   81971.500000  2.927500e+03      0.015260      0.013360   \n",
       "75%        1.000000  222891.250000  9.120000e+03      0.029485      0.019810   \n",
       "max       12.000000  465364.000000  4.066258e+07      0.151330      0.101190   \n",
       "\n",
       "                CUU           CUC           CUA           CUG           AUU  \\\n",
       "count  13028.000000  13028.000000  13028.000000  13028.000000  13028.000000   \n",
       "mean       0.017820      0.018288      0.019044      0.018450      0.028352   \n",
       "std        0.010586      0.014572      0.024250      0.016578      0.017507   \n",
       "min        0.000000      0.000000      0.000000      0.000000      0.000000   \n",
       "25%        0.010890      0.007830      0.005307      0.007180      0.016360   \n",
       "50%        0.016130      0.014560      0.009685      0.012800      0.025475   \n",
       "75%        0.022730      0.025112      0.017245      0.024315      0.038113   \n",
       "max        0.089780      0.100350      0.163920      0.107370      0.154060   \n",
       "\n",
       "       ...           CGG           AGA           AGG           GAU  \\\n",
       "count  ...  13028.000000  13028.000000  13028.000000  13028.000000   \n",
       "mean   ...      0.005454      0.009929      0.006422      0.024178   \n",
       "std    ...      0.006605      0.008574      0.006387      0.013828   \n",
       "min    ...      0.000000      0.000000      0.000000      0.000000   \n",
       "25%    ...      0.001220      0.001690      0.001170      0.012380   \n",
       "50%    ...      0.003530      0.009270      0.004545      0.025420   \n",
       "75%    ...      0.007150      0.015922      0.010250      0.034190   \n",
       "max    ...      0.055540      0.098830      0.058430      0.185660   \n",
       "\n",
       "                GAC           GAA           GAG           UAA           UAG  \\\n",
       "count  13028.000000  13028.000000  13028.000000  13028.000000  13028.000000   \n",
       "mean       0.021164      0.028290      0.021683      0.001645      0.000592   \n",
       "std        0.013041      0.014342      0.015018      0.001834      0.000907   \n",
       "min        0.000000      0.000000      0.000000      0.000000      0.000000   \n",
       "25%        0.011860      0.017360      0.009710      0.000560      0.000000   \n",
       "50%        0.019070      0.026085      0.020540      0.001380      0.000420   \n",
       "75%        0.027690      0.036800      0.031122      0.002370      0.000830   \n",
       "max        0.113840      0.144890      0.158550      0.045200      0.025610   \n",
       "\n",
       "                UGA  \n",
       "count  13028.000000  \n",
       "mean       0.006178  \n",
       "std        0.010344  \n",
       "min        0.000000  \n",
       "25%        0.000410  \n",
       "50%        0.001130  \n",
       "75%        0.002890  \n",
       "max        0.106700  \n",
       "\n",
       "[8 rows x 65 columns]"
      ]
     },
     "execution_count": 6,
     "metadata": {},
     "output_type": "execute_result"
    }
   ],
   "source": [
    "#Description of Data\n",
    "data.describe()"
   ]
  },
  {
   "cell_type": "code",
   "execution_count": 7,
   "id": "5fb997d6",
   "metadata": {
    "id": "5fb997d6"
   },
   "outputs": [],
   "source": [
    "#To Display the Maximium Rows\n",
    "pd.set_option('display.max_rows', 50000)"
   ]
  },
  {
   "cell_type": "code",
   "execution_count": 8,
   "id": "76467c92",
   "metadata": {
    "colab": {
     "base_uri": "https://localhost:8080/"
    },
    "id": "76467c92",
    "outputId": "f21bc290-fbb5-4ab7-e80e-99bcfd3d0ce6"
   },
   "outputs": [
    {
     "data": {
      "text/plain": [
       "Kingdom           11\n",
       "DNAtype           11\n",
       "SpeciesID      12368\n",
       "Ncodons         7103\n",
       "SpeciesName    13016\n",
       "UUU             4791\n",
       "UUC             4121\n",
       "UUA             4796\n",
       "UUG             3282\n",
       "CUU             3677\n",
       "CUC             4389\n",
       "CUA             4063\n",
       "CUG             4562\n",
       "AUU             5243\n",
       "AUC             4684\n",
       "AUA             4477\n",
       "AUG             3237\n",
       "GUU             3640\n",
       "GUC             3602\n",
       "GUA             3149\n",
       "GUG             3993\n",
       "GCU             3725\n",
       "GCC             5044\n",
       "GCA             3451\n",
       "GCG             3559\n",
       "CCU             2751\n",
       "CCC             3221\n",
       "CCA             3488\n",
       "CCG             2889\n",
       "UGG             2597\n",
       "GGU             3622\n",
       "GGC             4392\n",
       "GGA             3538\n",
       "GGG             2613\n",
       "UCU             3273\n",
       "UCC             2997\n",
       "UCA             3391\n",
       "UCG             2306\n",
       "AGU             2440\n",
       "AGC             2565\n",
       "ACU             3253\n",
       "ACC             4188\n",
       "ACA             4170\n",
       "ACG             2484\n",
       "UAU             3977\n",
       "UAC             3003\n",
       "CAA             3670\n",
       "CAG             3724\n",
       "AAU             4661\n",
       "AAC             3675\n",
       "UGU             2205\n",
       "UGC             2196\n",
       "CAU             2615\n",
       "CAC             2668\n",
       "AAA             5288\n",
       "AAG             4532\n",
       "CGU             2298\n",
       "CGC             3182\n",
       "CGA             1880\n",
       "CGG             2136\n",
       "AGA             2835\n",
       "AGG             2228\n",
       "GAU             4578\n",
       "GAC             4416\n",
       "GAA             4827\n",
       "GAG             4686\n",
       "UAA              703\n",
       "UAG              422\n",
       "UGA             1786\n",
       "dtype: int64"
      ]
     },
     "execution_count": 8,
     "metadata": {},
     "output_type": "execute_result"
    }
   ],
   "source": [
    "#To Display Unique Values\n",
    "data.nunique()"
   ]
  },
  {
   "cell_type": "code",
   "execution_count": 9,
   "id": "45d70007",
   "metadata": {
    "id": "45d70007"
   },
   "outputs": [],
   "source": [
    "#To Replace\n",
    "data['Kingdom'].replace({'bct':'Bacteria' , 'inv' : \"Invertebrates\" , 'mam' : 'mammals' , \n",
    "                         'pln' : \"plant\", \"pri\" : 'primates', 'rod':'rodents' , 'vrt': 'vertebrates', \n",
    "                         'vrl' : 'virus', 'phg':'bacyeriophage','arc':'archae','plm':'plasmid'},inplace=True)"
   ]
  },
  {
   "cell_type": "code",
   "execution_count": 10,
   "id": "49d2c5c8",
   "metadata": {
    "colab": {
     "base_uri": "https://localhost:8080/"
    },
    "id": "49d2c5c8",
    "outputId": "de0ab15a-bef3-4a7a-959b-dde1878be52a",
    "papermill": {
     "duration": 0.032333,
     "end_time": "2021-10-10T17:51:32.326159",
     "exception": false,
     "start_time": "2021-10-10T17:51:32.293826",
     "status": "completed"
    },
    "tags": []
   },
   "outputs": [
    {
     "data": {
      "text/plain": [
       "Bacteria         2920\n",
       "virus            2832\n",
       "plant            2523\n",
       "vertebrates      2077\n",
       "Invertebrates    1345\n",
       "mammals           572\n",
       "bacyeriophage     220\n",
       "rodents           215\n",
       "primates          180\n",
       "archae            126\n",
       "plasmid            18\n",
       "Name: Kingdom, dtype: int64"
      ]
     },
     "execution_count": 10,
     "metadata": {},
     "output_type": "execute_result"
    }
   ],
   "source": [
    "#Count of Unique Values\n",
    "data['Kingdom'].value_counts()"
   ]
  },
  {
   "cell_type": "markdown",
   "id": "2ada5d02",
   "metadata": {
    "id": "2ada5d02",
    "jp-MarkdownHeadingCollapsed": true,
    "papermill": {
     "duration": 0.018511,
     "end_time": "2021-10-10T17:51:32.402363",
     "exception": false,
     "start_time": "2021-10-10T17:51:32.383852",
     "status": "completed"
    },
    "tags": []
   },
   "source": [
    "3.Transformation of Data"
   ]
  },
  {
   "cell_type": "code",
   "execution_count": 11,
   "id": "d4a595ea",
   "metadata": {
    "id": "d4a595ea",
    "papermill": {
     "duration": 0.058151,
     "end_time": "2021-10-10T17:51:32.479294",
     "exception": false,
     "start_time": "2021-10-10T17:51:32.421143",
     "status": "completed"
    },
    "tags": []
   },
   "outputs": [],
   "source": [
    "#To Change the Datatype\n",
    "data['UUU']=data['UUU'].replace(['non-B hepatitis virus','12;I'],'NaN')\n",
    "data['UUC']=data['UUC'].replace('-','NaN')\n",
    "data['UUU'] = data['UUU'].astype('float32')\n",
    "data['UUC'] = data['UUC'].astype('float32')\n",
    "data.dropna(inplace=True)"
   ]
  },
  {
   "cell_type": "code",
   "execution_count": null,
   "id": "0d9afe59",
   "metadata": {
    "colab": {
     "base_uri": "https://localhost:8080/",
     "height": 1000
    },
    "id": "0d9afe59",
    "outputId": "016f3472-899b-4040-fe75-d8fd2b04765c"
   },
   "outputs": [],
   "source": [
    "#To Display the Dataframe\n",
    "data"
   ]
  },
  {
   "cell_type": "code",
   "execution_count": null,
   "id": "7ed30f59",
   "metadata": {
    "id": "7ed30f59",
    "papermill": {
     "duration": 0.027228,
     "end_time": "2021-10-10T17:51:32.525240",
     "exception": false,
     "start_time": "2021-10-10T17:51:32.498012",
     "status": "completed"
    },
    "tags": []
   },
   "outputs": [],
   "source": [
    "#To Split the Dataset\n",
    "x = data.drop(columns = ['Kingdom','SpeciesName','SpeciesID'], axis = 1 )\n",
    "y = data['Kingdom']\n"
   ]
  },
  {
   "cell_type": "code",
   "execution_count": null,
   "id": "c7853743",
   "metadata": {
    "colab": {
     "base_uri": "https://localhost:8080/"
    },
    "id": "c7853743",
    "outputId": "9d8d50d4-a0fd-4263-d48f-363ce939d01f",
    "papermill": {
     "duration": 0.02616,
     "end_time": "2021-10-10T17:51:32.570452",
     "exception": false,
     "start_time": "2021-10-10T17:51:32.544292",
     "status": "completed"
    },
    "tags": []
   },
   "outputs": [],
   "source": [
    "#Shape of X and Y\n",
    "print(\"The shape of X is \" , x.shape)\n",
    "print(\"The shape of Y is \" , y.shape)"
   ]
  },
  {
   "cell_type": "code",
   "execution_count": null,
   "id": "4aa9eb70",
   "metadata": {
    "colab": {
     "base_uri": "https://localhost:8080/"
    },
    "id": "4aa9eb70",
    "outputId": "82a9c264-45ff-456b-d8fc-46e3e578a3f3",
    "papermill": {
     "duration": 0.037669,
     "end_time": "2021-10-10T17:51:36.350123",
     "exception": false,
     "start_time": "2021-10-10T17:51:36.312454",
     "status": "completed"
    },
    "tags": []
   },
   "outputs": [],
   "source": [
    "#Value Counts of Target Variable\n",
    "y.value_counts()"
   ]
  },
  {
   "cell_type": "markdown",
   "id": "70d6f189",
   "metadata": {
    "id": "70d6f189",
    "papermill": {
     "duration": 0.026099,
     "end_time": "2021-10-10T17:51:36.401738",
     "exception": false,
     "start_time": "2021-10-10T17:51:36.375639",
     "status": "completed"
    },
    "tags": []
   },
   "source": [
    "4.Preparation of Model"
   ]
  },
  {
   "cell_type": "code",
   "execution_count": null,
   "id": "f2b99dc2",
   "metadata": {
    "id": "f2b99dc2",
    "papermill": {
     "duration": 0.164264,
     "end_time": "2021-10-10T17:51:36.591687",
     "exception": false,
     "start_time": "2021-10-10T17:51:36.427423",
     "status": "completed"
    },
    "tags": []
   },
   "outputs": [],
   "source": [
    "#Data Splitted as Training and Testing Data\n",
    "from sklearn.model_selection import train_test_split\n",
    "x_train, x_test, y_train, y_test = train_test_split(x, y, test_size = 0.3, random_state = 0)"
   ]
  },
  {
   "cell_type": "code",
   "execution_count": null,
   "id": "3ec98b83",
   "metadata": {
    "colab": {
     "base_uri": "https://localhost:8080/"
    },
    "id": "3ec98b83",
    "outputId": "c915882f-4b2b-47de-9e95-7efd500b1bf7"
   },
   "outputs": [],
   "source": [
    "#Shape of the Data\n",
    "print(\"Shape of Test Data is\", x_test.shape)"
   ]
  },
  {
   "cell_type": "code",
   "execution_count": null,
   "id": "b07840cc",
   "metadata": {
    "colab": {
     "base_uri": "https://localhost:8080/"
    },
    "id": "b07840cc",
    "outputId": "f562466d-9b08-4f92-9e3d-974b99e5ee9a"
   },
   "outputs": [],
   "source": [
    "#Decision Tree Classifier\n",
    "dtc = DecisionTreeClassifier()\n",
    "dtc.fit(x_train, y_train)\n",
    "\n",
    "y_pred = dtc.predict(x_test)\n",
    "\n",
    "dtc_acc_train = accuracy_score(y_train, dtc.predict(x_train))*100\n",
    "dtc_acc_test = accuracy_score(y_test, y_pred)*100\n",
    "\n",
    "print(\"Accuracy of Train Data is\", dtc_acc_train)\n",
    "print(\"Accuracy of Test Data is\", dtc_acc_test)\n"
   ]
  },
  {
   "cell_type": "code",
   "execution_count": null,
   "id": "5c02d184",
   "metadata": {
    "colab": {
     "base_uri": "https://localhost:8080/"
    },
    "id": "5c02d184",
    "outputId": "8491ea38-efe2-4ba8-f127-b4526864888c"
   },
   "outputs": [],
   "source": [
    "#Random Forest Classifier\n",
    "rfc = RandomForestClassifier()\n",
    "rfc.fit(x_train, y_train)\n",
    "\n",
    "y_pred = rfc.predict(x_test)\n",
    "\n",
    "rfc_acc_train = accuracy_score(y_train, rfc.predict(x_train))*100\n",
    "rfc_acc_test = accuracy_score(y_test, y_pred)*100\n",
    "\n",
    "print(\"Accuracy of Train Data is\", rfc_acc_train)\n",
    "print(\"Accuracy of Test Data is\", rfc_acc_test)\n"
   ]
  },
  {
   "cell_type": "code",
   "execution_count": null,
   "id": "J-xSpfkVOvfQ",
   "metadata": {
    "colab": {
     "base_uri": "https://localhost:8080/",
     "height": 489
    },
    "id": "J-xSpfkVOvfQ",
    "outputId": "bbea1459-826c-45d1-d9d1-a24189ab3fdf"
   },
   "outputs": [],
   "source": [
    "#Comparison of Accuracy of Models Used\n",
    "acc_values = [dtc_acc_test, rfc_acc_test]\n",
    "\n",
    "labels = ['Decision Tree', 'Random Forest']\n",
    "\n",
    "plt.bar(labels, acc_values)\n",
    "plt.title('Accuracy Comparison of Test Datasets')\n",
    "plt.xlabel('Model')\n",
    "plt.ylabel('Accuracy')\n"
   ]
  },
  {
   "cell_type": "markdown",
   "id": "kPXw4l4XmyqR",
   "metadata": {
    "id": "kPXw4l4XmyqR"
   },
   "source": [
    "5.Serialization of Objects"
   ]
  },
  {
   "cell_type": "code",
   "execution_count": null,
   "id": "0acef141",
   "metadata": {
    "id": "0acef141"
   },
   "outputs": [],
   "source": [
    "pickle.dump(rfc, open(\"model.pkl\", 'wb'))"
   ]
  },
  {
   "cell_type": "code",
   "execution_count": null,
   "id": "19603a8c",
   "metadata": {
    "id": "19603a8c"
   },
   "outputs": [],
   "source": [
    "model=pickle.load(open(\"model.pkl\", 'rb'))"
   ]
  },
  {
   "cell_type": "markdown",
   "id": "OTDUt99Vm9ZT",
   "metadata": {
    "id": "OTDUt99Vm9ZT"
   },
   "source": [
    "6.Result Obtained"
   ]
  },
  {
   "cell_type": "code",
   "execution_count": null,
   "id": "43a0e18e",
   "metadata": {
    "id": "43a0e18e"
   },
   "outputs": [],
   "source": [
    "#Obtain the Result\n",
    "result=pd.DataFrame(model.predict(x_test))"
   ]
  },
  {
   "cell_type": "code",
   "execution_count": null,
   "id": "225e7ae0",
   "metadata": {
    "id": "225e7ae0"
   },
   "outputs": [],
   "source": [
    "#Copy the Result to CSV\n",
    "result.to_csv(\"result.csv\")"
   ]
  }
 ],
 "metadata": {
  "colab": {
   "provenance": []
  },
  "kernelspec": {
   "display_name": "Python 3 (Intel® oneAPI 2023.0)",
   "language": "python",
   "name": "c009-intel_distribution_of_python_3_oneapi-beta05-python"
  },
  "language_info": {
   "codemirror_mode": {
    "name": "ipython",
    "version": 3
   },
   "file_extension": ".py",
   "mimetype": "text/x-python",
   "name": "python",
   "nbconvert_exporter": "python",
   "pygments_lexer": "ipython3",
   "version": "3.9.15"
  },
  "papermill": {
   "default_parameters": {},
   "duration": 1263.693317,
   "end_time": "2021-10-10T18:12:26.770443",
   "environment_variables": {},
   "exception": null,
   "input_path": "__notebook__.ipynb",
   "output_path": "__notebook__.ipynb",
   "parameters": {},
   "start_time": "2021-10-10T17:51:23.077126",
   "version": "2.3.3"
  }
 },
 "nbformat": 4,
 "nbformat_minor": 5
}
